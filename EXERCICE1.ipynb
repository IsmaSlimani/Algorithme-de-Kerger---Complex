{
 "cells": [
  {
   "cell_type": "markdown",
   "id": "15e227c5",
   "metadata": {},
   "source": [
    "# Exercice 1"
   ]
  },
  {
   "cell_type": "markdown",
   "id": "68b77587",
   "metadata": {},
   "source": [
    "## 1.A"
   ]
  },
  {
   "cell_type": "markdown",
   "id": "52189e8b",
   "metadata": {},
   "source": [
    "Programmer structure de donnée permettant de représenter un multigraphe par sa matrice d'adjacence et programmer une fonction réalisant l'opération de contraction"
   ]
  },
  {
   "cell_type": "code",
   "execution_count": 92,
   "id": "eb143293",
   "metadata": {},
   "outputs": [],
   "source": [
    "#On commence par importer les packages utiles pour notre implémentation\n",
    "import numpy as np\n",
    "import random as rd\n",
    "import time \n",
    "import matplotlib.pyplot as plt \n",
    "\n",
    "#Définissions notre structure de données à savoir la matrice d'adjacence\n",
    "class matriceadj :\n",
    "    #Nous allons initialiser la matrice \n",
    "    def __init__(self,taille):\n",
    "        self.taille = taille\n",
    "        self.adjMatrice = np.zeros((taille,taille))\n",
    "        self.ens_sommets = [] #à cause de la contraction un sommet en représentera plusieurs \n",
    "        for i in range (taille):\n",
    "            self.ens_sommets.append([i])\n",
    "            #On programme une méthode permettant d'ajouter les arêtes\n",
    "    def ajout_arete(self,u,v):\n",
    "        self.adjMatrice[u,v] +=1\n",
    "        self.adjMatrice[v,u] += 1\n",
    "    \n",
    "    #1.C\n",
    "    #Tirage aléatoire \n",
    "    def tirage_arete(self):\n",
    "        u = rd.randint(0,len(self.adjMatrice)-1)\n",
    "        v = rd.randint(0,len(self.adjMatrice)-1)\n",
    "        while(u==v or self.adjMatrice[u,v]==0): #Nous tirons aléatoirement une arête qui existe dans le graphe tout en évitant les boucles \n",
    "            u = rd.randint(0,len(self.adjMatrice)-1)\n",
    "            v = rd.randint(0,len(self.adjMatrice)-1)\n",
    "        return u,v\n",
    "    \n",
    "    #Passons à présent à la définition d'une fonction permettant de réaliser la contraction \n",
    "    #À noter que la contraction n'est rien d'autres que la suppression de l'arête choisie \n",
    "    def contraction(self,u,v):\n",
    "        self.adjMatrice[v] += self.adjMatrice[u]\n",
    "        self.adjMatrice[:,v] += self.adjMatrice[:,u]\n",
    "        self.adjMatrice[v,v] = 0 #On supprime les boucles car elles n'ont aucun intérêt\n",
    "        self.adjMatrice = np.delete(self.adjMatrice,u,0)\n",
    "        self.adjMatrice = np.delete(self.adjMatrice,u,1)\n",
    "        #Passons au merge des sommets \n",
    "        merge_sommets = self.ens_sommets[v]\n",
    "        for s in merge_sommets :\n",
    "            self.ens_sommets[u].append(s)\n",
    "        self.ens_sommets.pop(v)\n",
    "        return self.adjMatrice, self.ens_sommets\n",
    "    \n",
    "    def karger(self): \n",
    "        u,v = self.tirage_arete()\n",
    "        #print(\"\\nL'arête tirée est entre les sommets:\",u,v)\n",
    "        m,s = self.contraction(u,v)\n",
    "        #print(\"Les sommets du graphe apres la contraction :\",s)\n",
    "        #print(\"La matrice d'adjacence apres la contraction :\\n\",m)\n",
    "        while(len(m)>2):\n",
    "            self.adjMatrice = m\n",
    "            self.ens_sommets = s\n",
    "            u,v = self.tirage_arete()\n",
    "            #print(\"\\nL'arête tirée est entre les sommets :\",u,v)\n",
    "            m,s = self.contraction(u,v)\n",
    "            #print(\"La matrice d'adjacence apres la contraction :\\n\",m)\n",
    "            #print(\"Les sommets du graphe apres la contraction :\",s)\n",
    "        return m,s\n",
    "    \n",
    "    "
   ]
  },
  {
   "cell_type": "code",
   "execution_count": 24,
   "id": "46c9be3a",
   "metadata": {},
   "outputs": [
    {
     "name": "stdout",
     "output_type": "stream",
     "text": [
      "[[0. 1. 1. 1.]\n",
      " [1. 0. 0. 1.]\n",
      " [1. 0. 0. 1.]\n",
      " [1. 1. 1. 0.]]\n",
      "[[0. 2. 1.]\n",
      " [2. 0. 1.]\n",
      " [1. 1. 0.]] [[0], [2], [3, 1]]\n"
     ]
    }
   ],
   "source": [
    "#Test\n",
    "#g = matriceadj(4)\n",
    "#g.ajout_arete(0, 1)\n",
    "#g.ajout_arete(0, 2)\n",
    "#g.ajout_arete(0, 3)\n",
    "#g.ajout_arete(1, 3)\n",
    "#g.ajout_arete(2, 3)\n",
    "#print(g.adjMatrice)\n",
    "#gbis,sommetsbis = g.contraction()\n",
    "#print(gbis,sommetsbis)"
   ]
  },
  {
   "cell_type": "markdown",
   "id": "f4724e79",
   "metadata": {},
   "source": [
    "## 1.B"
   ]
  },
  {
   "cell_type": "markdown",
   "id": "554a5813",
   "metadata": {},
   "source": [
    "Nous allons programmer différentes familles de graphes pour pouvoir tester les algorithmes par la suite "
   ]
  },
  {
   "cell_type": "code",
   "execution_count": 75,
   "id": "c504392b",
   "metadata": {},
   "outputs": [],
   "source": [
    "#Cycle a n sommets \n",
    "def mat_cycle(taille):#La fonction prend en argument le nombre de sommets du graphe (aka taille de la matrice )\n",
    "    matrix = matriceadj(taille)#Pour initialiser ma matrice \n",
    "    matrix.ajout_arete(0,taille-1)\n",
    "    for i in range(taille-1):\n",
    "        matrix.ajout_arete(i,i+1)\n",
    "    return matrix\n",
    "\n",
    "#Graphe complet a n sommets \n",
    "def mat_complet(taille):#La fonction prend en argument le nombre de sommets du graphe (aka taille de la matrice )\n",
    "    matrix = matriceadj(taille)#Pour initialiser ma matrice \n",
    "    #Comme tous les sommets du graphe sont reliés entre eux, toutes les cases de la matrice d'adjacence sont à 1, sauf la diagonale (pas de boucle)\n",
    "    for i in range(taille):\n",
    "        for j in range(taille):\n",
    "            if j!= i and i <j:#pour ajouter qu'une seule arête entre chaque sommets et éviter les boucles\n",
    "                matrix.ajout_arete(i,j)\n",
    "    return matrix\n",
    "\n",
    "#Graphe biparti complet n = 2k\n",
    "def mat_bicomplet(taille):\n",
    "    if (taille % 2 == 0):#La fonction prend en argument le nombre de sommets du graphe (aka taille de la matrice ) qui doit être pair\n",
    "        matrix = matriceadj(taille)#Pour initialiser ma matrice\n",
    "        for i in range(taille //2):\n",
    "            for j in range(taille//2,taille):\n",
    "                matrix.ajout_arete(i,j)\n",
    "        return matrix\n",
    "#Graphes aléatoires à n sommets où une arête est ajoutée à E avec une proba p\n",
    "def mat_alea(size, p):\n",
    "    mat = matriceadj(size)\n",
    "    for i in range(size):\n",
    "        for j in range(size):\n",
    "            if(i<j):#pour ajouter qu'une seule arête entre chaque sommets\n",
    "                _p = np.random.uniform(0,1)#tirage aléatoire de la proba\n",
    "                if(_p < p):\n",
    "                    mat.ajout_arete(i,j)\n",
    "    return mat\n",
    "\n",
    "\n"
   ]
  },
  {
   "cell_type": "markdown",
   "id": "22816396",
   "metadata": {},
   "source": [
    "Tester la fonction de contraction sur les familles de graphes\n"
   ]
  },
  {
   "cell_type": "code",
   "execution_count": 6,
   "id": "821b2654",
   "metadata": {},
   "outputs": [
    {
     "name": "stdout",
     "output_type": "stream",
     "text": [
      "Affichage d'un cycle de taille 4 \n",
      " [[0. 1. 0. 1.]\n",
      " [1. 0. 1. 0.]\n",
      " [0. 1. 0. 1.]\n",
      " [1. 0. 1. 0.]]\n",
      "Affichage d'un cycle de taille 5 \n",
      " [[0. 1. 0. 0. 1.]\n",
      " [1. 0. 1. 0. 0.]\n",
      " [0. 1. 0. 1. 0.]\n",
      " [0. 0. 1. 0. 1.]\n",
      " [1. 0. 0. 1. 0.]]\n",
      "Contraction de l'arête (0,1) pour le c4\n",
      " (array([[0., 1., 1.],\n",
      "       [1., 0., 1.],\n",
      "       [1., 1., 0.]]), [[0, 1], [2], [3]])\n",
      "Contraction de l'arête (0,1) pour le c5\n",
      " (array([[0., 1., 0., 1.],\n",
      "       [1., 0., 1., 0.],\n",
      "       [0., 1., 0., 1.],\n",
      "       [1., 0., 1., 0.]]), [[0, 1], [2], [3], [4]])\n",
      "----------------------------------------------------\n",
      "Affichage d'un complet de taille 4 \n",
      " [[0. 1. 1. 1.]\n",
      " [1. 0. 1. 1.]\n",
      " [1. 1. 0. 1.]\n",
      " [1. 1. 1. 0.]]\n",
      "Affichage d'un cycle de taille 5 \n",
      " [[0. 1. 1. 1. 1.]\n",
      " [1. 0. 1. 1. 1.]\n",
      " [1. 1. 0. 1. 1.]\n",
      " [1. 1. 1. 0. 1.]\n",
      " [1. 1. 1. 1. 0.]]\n",
      "Contraction de l'arête (0,1) pour le K4\n",
      " (array([[0., 2., 2.],\n",
      "       [2., 0., 1.],\n",
      "       [2., 1., 0.]]), [[0, 1], [2], [3]])\n",
      "Contraction de l'arête (0,1) pour le K5\n",
      " (array([[0., 2., 2., 2.],\n",
      "       [2., 0., 1., 1.],\n",
      "       [2., 1., 0., 1.],\n",
      "       [2., 1., 1., 0.]]), [[0, 1], [2], [3], [4]])\n",
      "----------------------------------------------------\n",
      "Affichage d'un biparti complet K2,2\n",
      " [[0. 0. 1. 1.]\n",
      " [0. 0. 1. 1.]\n",
      " [1. 1. 0. 0.]\n",
      " [1. 1. 0. 0.]]\n",
      "Affichage d'un biparti complet K3,3 \n",
      " [[0. 0. 0. 1. 1. 1.]\n",
      " [0. 0. 0. 1. 1. 1.]\n",
      " [0. 0. 0. 1. 1. 1.]\n",
      " [1. 1. 1. 0. 0. 0.]\n",
      " [1. 1. 1. 0. 0. 0.]\n",
      " [1. 1. 1. 0. 0. 0.]]\n",
      "Contraction de l'arête (0,2) pour le K22\n",
      " (array([[0., 1., 1.],\n",
      "       [1., 0., 1.],\n",
      "       [1., 1., 0.]]), [[0, 2], [1], [3]])\n",
      "Contraction de l'arête (0,3) pour le K33\n",
      " (array([[0., 0., 1., 1., 1.],\n",
      "       [0., 0., 1., 1., 1.],\n",
      "       [1., 1., 0., 1., 1.],\n",
      "       [1., 1., 1., 0., 0.],\n",
      "       [1., 1., 1., 0., 0.]]), [[0, 3], [1], [2], [4], [5]])\n",
      "----------------------------------------------------\n",
      "Affichage d'une matrice aléatoire\n",
      " [[0. 0. 0. 0. 1.]\n",
      " [0. 0. 1. 0. 1.]\n",
      " [0. 1. 0. 0. 1.]\n",
      " [0. 0. 0. 0. 0.]\n",
      " [1. 1. 1. 0. 0.]]\n",
      "contraction de l'arête (0,2)\n",
      " (array([[0., 1., 0., 1.],\n",
      "       [1., 0., 0., 2.],\n",
      "       [0., 0., 0., 0.],\n",
      "       [1., 2., 0., 0.]]), [[0, 2], [1], [3], [4]])\n"
     ]
    }
   ],
   "source": [
    "#Test de la fonction\n",
    "c4 = mat_cycle(4)\n",
    "print(\"Affichage d'un cycle de taille 4 \\n\",c4.adjMatrice)\n",
    "c5 = mat_cycle(5)\n",
    "print(\"Affichage d'un cycle de taille 5 \\n\",c5.adjMatrice)\n",
    "print(\"Contraction de l'arête (0,1) pour le c4\\n\",c4.contraction(0,1))\n",
    "print(\"Contraction de l'arête (0,1) pour le c5\\n\",c5.contraction(0,1))\n",
    "print(\"----------------------------------------------------\")\n",
    "K4 = mat_complet(4)\n",
    "print(\"Affichage d'un complet de taille 4 \\n\",K4.adjMatrice)\n",
    "K5 = mat_complet(5)\n",
    "print(\"Affichage d'un cycle de taille 5 \\n\",K5.adjMatrice)\n",
    "print(\"Contraction de l'arête (0,1) pour le K4\\n\",K4.contraction(0,1))\n",
    "print(\"Contraction de l'arête (0,1) pour le K5\\n\",K5.contraction(0,1))\n",
    "print(\"----------------------------------------------------\")\n",
    "K22 = mat_bicomplet(4)\n",
    "print(\"Affichage d'un biparti complet K2,2\\n\",K22.adjMatrice)\n",
    "K33 = mat_bicomplet(6)\n",
    "print(\"Affichage d'un biparti complet K3,3 \\n\",K33.adjMatrice)\n",
    "print(\"Contraction de l'arête (0,2) pour le K22\\n\",K22.contraction(0,2))\n",
    "print(\"Contraction de l'arête (0,3) pour le K33\\n\",K33.contraction(0,3))\n",
    "print(\"----------------------------------------------------\")\n",
    "m = mat_alea(5,0.6)\n",
    "print(\"Affichage d'une matrice aléatoire\\n\",m.adjMatrice)\n",
    "print(\"contraction de l'arête (0,2)\\n\",m.contraction(0,2))"
   ]
  },
  {
   "cell_type": "markdown",
   "id": "5fb35383",
   "metadata": {},
   "source": [
    "### Étude expérimentale de la complexité"
   ]
  },
  {
   "cell_type": "code",
   "execution_count": 16,
   "id": "3c69f1fa",
   "metadata": {},
   "outputs": [
    {
     "data": {
      "image/png": "[encoded data removed]",
      "text/plain": [
       "<Figure size 432x288 with 1 Axes>"
      ]
     },
     "metadata": {
      "needs_background": "light"
     },
     "output_type": "display_data"
    }
   ],
   "source": [
    "#On réalise notre étude expérimentale de la complexité sur différentes tailles n croissantes\n",
    "tailles = [50,100,150,200,250,300,350,400,450,500]\n",
    "temps1 = []\n",
    "temps2 = []\n",
    "temps3 = []\n",
    "\n",
    "for i in tailles :\n",
    "    t1 = 0\n",
    "    t2 = 0\n",
    "    t3 = 0\n",
    "   \n",
    "    for j in range(50): #On réitère plusieurs fois afin d'obtenir un temps moyen \n",
    "        m1 = mat_cycle(i)\n",
    "        m2 = mat_complet(i)\n",
    "        m3 = mat_bicomplet(i)\n",
    "        #m4 = mat_alea(i,0.8) Nous discuterons de l'aléatoire lorsqu'on définira la fonction de tirage aléatoire\n",
    "        debut = time.time()\n",
    "        m1.contraction(0,1)\n",
    "        end = time.time()\n",
    "        t1 += end - debut\n",
    "        \n",
    "        debut = time.time()\n",
    "        m2.contraction(0,1)\n",
    "        end = time.time()\n",
    "        t2 += end - debut\n",
    "        \n",
    "        start = time.time()\n",
    "        m3.contraction(0,i//2)\n",
    "        end = time.time()\n",
    "        t3 += end - start\n",
    "    \n",
    "    temps1.append(np.mean(t1))\n",
    "    temps2.append(np.mean(t2))\n",
    "    temps3.append(np.mean(t3))\n",
    "    \n",
    "plt.plot(tailles,temps1, label='Cycles')\n",
    "plt.plot(tailles,temps2, label='Complet')\n",
    "plt.plot(tailles,temps3, label='Biparti complet')\n",
    "\n",
    "\n",
    "plt.legend()\n",
    "plt.savefig('Question 1.B.png', dpi=300, bbox_inches='tight')\n",
    "plt.show()"
   ]
  },
  {
   "cell_type": "markdown",
   "id": "761e1fd1",
   "metadata": {},
   "source": [
    "## 1.C"
   ]
  },
  {
   "cell_type": "markdown",
   "id": "f9911ad5",
   "metadata": {},
   "source": [
    "Implémentation de la fonction du tirage aléatoire (nous l'avons directement définie dans la class matriceadj"
   ]
  },
  {
   "cell_type": "code",
   "execution_count": 25,
   "id": "9553e957",
   "metadata": {},
   "outputs": [],
   "source": [
    "#def tirage_arête(Matrix):\n",
    " #   u = rd.randint(0,len(Matrix)-1)\n",
    "  #  v = rd.randint(0,len(Matrix)-1)\n",
    "   # while(u==v or Matrix[u,v]==0):\n",
    "    #    u = rd.randint(0,len(Matrix)-1)\n",
    "     #   v = rd.randint(0,len(Matrix)-1)\n",
    "    #return u,v"
   ]
  },
  {
   "cell_type": "markdown",
   "id": "4b2b4d2f",
   "metadata": {},
   "source": [
    "## 1.D"
   ]
  },
  {
   "cell_type": "markdown",
   "id": "92b88f2a",
   "metadata": {},
   "source": [
    "Implémentation de l'algorithme de Karger (directement défini dans la classe matriceadj)"
   ]
  },
  {
   "cell_type": "code",
   "execution_count": 26,
   "id": "503e32a1",
   "metadata": {},
   "outputs": [],
   "source": [
    "#def karger(Matrix,sommet): \n",
    " # m=copy.deepcopy(Matrix)\n",
    "  #u,v = tirage_arête(m)\n",
    "  #print(\"\\nL'arête tirée est entre les sommets:\",u,v)\n",
    "  #m,s = contraction(m,u,v,sommet)\n",
    "  #print(\"Les sommets du graphe apres la contraction :\",s)\n",
    "  #print(\"La matrice d'adjacence apres la contraction :\\n\",m)\n",
    "  #while(len(m)>2):\n",
    "   # u,v = tirage_arête(m)\n",
    "    #print(\"\\nL'arête tirée est entre les sommets :\",u,v)\n",
    "    #m,s = contraction(m,u,v,s)\n",
    "    #print(\"La matrice d'adjacence apres la contraction :\\n\",m)\n",
    "    #print(\"Les sommets du graphe apres la contraction :\",s)\n",
    "  #return m,s"
   ]
  },
  {
   "cell_type": "code",
   "execution_count": 29,
   "id": "3c6f2960",
   "metadata": {},
   "outputs": [
    {
     "name": "stdout",
     "output_type": "stream",
     "text": [
      "[[0. 1. 1. 1.]\n",
      " [1. 0. 0. 1.]\n",
      " [1. 0. 0. 1.]\n",
      " [1. 1. 1. 0.]]\n",
      "\n",
      "L'arête tirée est entre les sommets: 1 3\n",
      "Les sommets du graphe apres la contraction : [[0], [1, 3], [2]]\n",
      "La matrice d'adjacence apres la contraction :\n",
      " [[0. 1. 2.]\n",
      " [1. 0. 1.]\n",
      " [2. 1. 0.]]\n",
      "\n",
      "L'arête tirée est entre les sommets : 2 1\n",
      "La matrice d'adjacence apres la contraction :\n",
      " [[0. 3.]\n",
      " [3. 0.]]\n",
      "Les sommets du graphe apres la contraction : [[0], [2, 1, 3]]\n"
     ]
    },
    {
     "data": {
      "text/plain": [
       "(array([[0., 3.],\n",
       "        [3., 0.]]),\n",
       " [[0], [2, 1, 3]])"
      ]
     },
     "execution_count": 29,
     "metadata": {},
     "output_type": "execute_result"
    }
   ],
   "source": [
    "#Test de Karger \n",
    "#g = matriceadj(4)\n",
    "#g.ajout_arete(0, 1)\n",
    "#g.ajout_arete(0, 2)\n",
    "#g.ajout_arete(0, 3)\n",
    "#g.ajout_arete(1, 3)\n",
    "#g.ajout_arete(2, 3)\n",
    "#print(g.adjMatrice)\n",
    "\n",
    "#g.karger()\n"
   ]
  },
  {
   "cell_type": "markdown",
   "id": "492b7f74",
   "metadata": {},
   "source": [
    "### Expérimentation de Karger sur les familles de graphes"
   ]
  },
  {
   "cell_type": "code",
   "execution_count": 39,
   "id": "28874397",
   "metadata": {},
   "outputs": [
    {
     "data": {
      "image/png": "[encoded data removed]",
      "text/plain": [
       "<Figure size 432x288 with 1 Axes>"
      ]
     },
     "metadata": {
      "needs_background": "light"
     },
     "output_type": "display_data"
    }
   ],
   "source": [
    "#On réalise notre étude expérimentale de la complexité sur différentes tailles n croissantes\n",
    "tailles = [50,60,70,80,100,110,120,130,140,150]\n",
    "temps1 = []\n",
    "temps2 = []\n",
    "temps3 = []\n",
    "temps4 = []\n",
    "\n",
    "for i in tailles :\n",
    "    t1 = 0\n",
    "    t2 = 0\n",
    "    t3 = 0\n",
    "    t4 = 0\n",
    "   \n",
    "    for j in range(50): #On réitère plusieurs fois afin d'obtenir un temps moyen \n",
    "        m1 = mat_cycle(i)\n",
    "        m2 = mat_complet(i)\n",
    "        m3 = mat_bicomplet(i)\n",
    "        m4 = mat_alea(i,0.8)\n",
    "        \n",
    "        debut = time.time()\n",
    "        m1.karger()\n",
    "        end = time.time()\n",
    "        t1 += end - debut\n",
    "        \n",
    "        debut = time.time()\n",
    "        m2.karger()\n",
    "        end = time.time()\n",
    "        t2 += end - debut\n",
    "        \n",
    "        start = time.time()\n",
    "        m3.karger()\n",
    "        end = time.time()\n",
    "        t3 += end - start\n",
    "        \n",
    "        debut = time.time()\n",
    "        m4.karger()\n",
    "        end = time.time()\n",
    "        t4 += end - debut\n",
    "    \n",
    "    temps1.append(np.mean(t1))\n",
    "    temps2.append(np.mean(t2))\n",
    "    temps3.append(np.mean(t3))\n",
    "    temps4.append(np.mean(t4))\n",
    "    \n",
    "plt.plot(tailles,temps1, label='Cycles')\n",
    "plt.plot(tailles,temps2, label='Complet')\n",
    "plt.plot(tailles,temps3, label='Biparti complet')\n",
    "plt.plot(tailles,temps4, label='Graphes aléatoires')\n",
    "\n",
    "\n",
    "\n",
    "plt.legend()\n",
    "plt.savefig('Question 1.D.png', dpi=300, bbox_inches='tight')\n",
    "plt.show()"
   ]
  },
  {
   "cell_type": "markdown",
   "id": "25613d2e",
   "metadata": {},
   "source": [
    "## 1.E"
   ]
  },
  {
   "cell_type": "markdown",
   "id": "d5e45454",
   "metadata": {},
   "source": [
    "Implémentation d'une nouvelle structure de données afin de représenter un graphe par sa liste d'adjacence"
   ]
  },
  {
   "cell_type": "markdown",
   "id": "55831d8f",
   "metadata": {},
   "source": [
    "Programmer la structure de données pour représenter les multigraphes et une fonction réalisant l'opération de contraction Cette fois-ci sur une liste d'adjacence"
   ]
  },
  {
   "cell_type": "code",
   "execution_count": 49,
   "id": "b9a80f0c",
   "metadata": {},
   "outputs": [],
   "source": [
    "#Structure de donnée permettant de représenter un graphe par sa liste  d'adjacence\n",
    "class listadj:\n",
    "    def __init__(self,Nodes,is_directed=False):\n",
    "        self.nodes=Nodes\n",
    "        self.adj_list={}\n",
    "        self.is_directed=is_directed\n",
    "\n",
    "        for node in self.nodes:\n",
    "            self.adj_list[node]=[]\n",
    "\n",
    "    def add_edge(self,v,e):\n",
    "        self.adj_list[v].append(e)\n",
    "        if not self.is_directed:\n",
    "            self.adj_list[e].append(v)\n",
    "    \n",
    "#Fonction qui va tout simplement remplacer le sommet contracté par u puis le supprimer\n",
    "def changer_sommet(adjlist,node,v,u):\n",
    "    adjlist[node]= [u if n == v else n for n in adjlist[node] if n != node]\n",
    "#Fonction qui réalise la contraction\n",
    "def contractlist(adjlist,u,v):\n",
    "    arete_de_v = [n for n in adjlist[v] if n!= u]\n",
    "    adjlist[u] = [n for n in adjlist[u] if n!= v]\n",
    "    adjlist[u] += arete_de_v\n",
    "    adjlist.pop(v)\n",
    "    for node in list(set(arete_de_v)):\n",
    "        changer_sommet(adjlist, node, v, u)\n",
    "    return adjlist\n",
    "\n"
   ]
  },
  {
   "cell_type": "code",
   "execution_count": 51,
   "id": "9f392d50",
   "metadata": {},
   "outputs": [
    {
     "data": {
      "text/plain": [
       "{0: [2, 3, 3], 2: [0, 3], 3: [0, 0, 2]}"
      ]
     },
     "execution_count": 51,
     "metadata": {},
     "output_type": "execute_result"
    }
   ],
   "source": [
    "#Test\n",
    "#edges=[(0,1),(0,2),(0,3),(1,3),(2,3)]\n",
    "#nodes=[0,1,2,3]\n",
    "#graph=listadj(nodes,is_directed=False)\n",
    "#for v,e in edges:\n",
    " #   graph.add_edge(v,e)\n",
    "#graph.print_adj() #C'est un dictionnaire en gros\n",
    "#m = graph.adj_list\n",
    "#contractlist(m,0,1)"
   ]
  },
  {
   "cell_type": "markdown",
   "id": "86b398d4",
   "metadata": {},
   "source": [
    "## 1.F"
   ]
  },
  {
   "cell_type": "markdown",
   "id": "e14df1f2",
   "metadata": {},
   "source": [
    "Fonction permettant de réaliser le tirage aléatoire"
   ]
  },
  {
   "cell_type": "code",
   "execution_count": 52,
   "id": "33e7fd2c",
   "metadata": {},
   "outputs": [],
   "source": [
    "import random \n",
    "def tiragelist(adjlist):\n",
    "    u = random.choice(list(adjlist)) #On choisit notre premier sommet à partir des clés de notre dictionnaires\n",
    "    v = random.choice(adjlist[u])#On choisit aléatoirement l'un de ses voisins en parcourant les valeurs de la clé correspondante\n",
    "    return u,v "
   ]
  },
  {
   "cell_type": "markdown",
   "id": "8dd2e2dc",
   "metadata": {},
   "source": [
    "## 1.G"
   ]
  },
  {
   "cell_type": "markdown",
   "id": "2b5267f3",
   "metadata": {},
   "source": [
    "Faire l'algorithme de Karger avec liste d'adjacence "
   ]
  },
  {
   "cell_type": "code",
   "execution_count": 67,
   "id": "4cfd095f",
   "metadata": {},
   "outputs": [],
   "source": [
    "def kargerlist(adjlist):\n",
    "    while len(adjlist) > 2:\n",
    "        u,v = tiragelist(adjlist)\n",
    "        #print(\"L'arête tirée est :\",u,v)\n",
    "        adjlist = contractlist(adjlist,u,v)\n",
    "        #print(adjlist)\n",
    "    return adjlist"
   ]
  },
  {
   "cell_type": "code",
   "execution_count": 56,
   "id": "556074d3",
   "metadata": {},
   "outputs": [
    {
     "name": "stdout",
     "output_type": "stream",
     "text": [
      "L'arête tirée est : 3 2\n",
      "{0: [1, 3, 3], 1: [0, 3], 3: [0, 1, 0]}\n",
      "L'arête tirée est : 0 1\n",
      "{0: [3, 3, 3], 3: [0, 0, 0]}\n"
     ]
    },
    {
     "data": {
      "text/plain": [
       "{0: [3, 3, 3], 3: [0, 0, 0]}"
      ]
     },
     "execution_count": 56,
     "metadata": {},
     "output_type": "execute_result"
    }
   ],
   "source": [
    "#test \n",
    "#edges=[(0,1),(0,2),(0,3),(1,3),(2,3)]\n",
    "#nodes=[0,1,2,3]\n",
    "#graph=listadj(nodes,is_directed=False)\n",
    "#for v,e in edges:\n",
    " #   graph.add_edge(v,e)\n",
    "#graph.print_adj() #C'est un dictionnaire en gros\n",
    "#m = graph.adj_list\n",
    "#kargerlist(m)"
   ]
  },
  {
   "cell_type": "markdown",
   "id": "103d4c8a",
   "metadata": {},
   "source": [
    "## 1.H"
   ]
  },
  {
   "cell_type": "markdown",
   "id": "207243dc",
   "metadata": {},
   "source": [
    "Nous allons tout d'abord adapter la définition des graphes par leur liste d'adjacence"
   ]
  },
  {
   "cell_type": "code",
   "execution_count": 72,
   "id": "e660e598",
   "metadata": {},
   "outputs": [],
   "source": [
    "#Cycle a n sommets \n",
    "def matl_cycle(taille):#La fonction prend en argument le nombre de sommets du graphe (aka taille de la matrice )\n",
    "    noeud = [i for i in range(taille)]\n",
    "    matrix = listadj(noeud,is_directed = False)#Pour initialiser ma matrice \n",
    "    matrix.add_edge(0,taille-1)\n",
    "    for i in range(taille-1):\n",
    "        matrix.add_edge(i,i+1)\n",
    "    return matrix\n",
    "\n",
    "#Graphe complet a n sommets \n",
    "def matl_complet(taille):#La fonction prend en argument le nombre de sommets du graphe (aka taille de la matrice )\n",
    "    noeud = [i for i in range(taille)]\n",
    "    matrix = listadj(noeud)#Pour initialiser ma matrice \n",
    "  #Comme tous les sommets du graphe sont reliés entre eux, toutes les cases de la matrice d'adjacence sont à 1, sauf la diagonale (pas de boucle)\n",
    "    for i in range(taille):\n",
    "        for j in range(taille):\n",
    "            if j!= i and i <j:\n",
    "                matrix.add_edge(i,j)\n",
    "\n",
    "    return matrix\n",
    "\n",
    "#Graphe biparti complet\n",
    "def matl_bicomplet(taille):\n",
    "    if (taille % 2 == 0):\n",
    "        #La fonction prend en argument le nombre de sommets du graphe (aka taille de la matrice ) qui doit être pair\n",
    "        noeud = [i for i in range(taille)]\n",
    "        matrix = listadj(noeud)#Pour initialiser ma matrice \n",
    "        for i in range(taille //2):\n",
    "            for j in range(taille//2,taille):\n",
    "                matrix.add_edge(i,j)\n",
    "    return matrix\n",
    "#Graphes aléatoires\n",
    "def matl_alea(taille, p):\n",
    "    noeud = [i for i in range(taille)]\n",
    "    mat = listadj(noeud)\n",
    "    for i in range(taille):\n",
    "        for j in range(taille):\n",
    "            if(i<j):#pour ajouter qu'une seule arête entre chaque sommets\n",
    "                _p = np.random.uniform(0,1)\n",
    "                if(_p < p):\n",
    "                    mat.add_edge(i,j)\n",
    "                  \n",
    "    return mat"
   ]
  },
  {
   "cell_type": "code",
   "execution_count": 68,
   "id": "ec13b295",
   "metadata": {},
   "outputs": [
    {
     "data": {
      "image/png": "[encoded data removed]",
      "text/plain": [
       "<Figure size 432x288 with 1 Axes>"
      ]
     },
     "metadata": {
      "needs_background": "light"
     },
     "output_type": "display_data"
    }
   ],
   "source": [
    "#On réalise notre étude expérimentale de la complexité sur différentes tailles n croissantes\n",
    "tailles = [50,60,70,80,100,110,120,130,140,150]\n",
    "temps1 = []\n",
    "temps2 = []\n",
    "temps3 = []\n",
    "temps4 = []\n",
    "\n",
    "for i in tailles :\n",
    "    t1 = 0\n",
    "    t2 = 0\n",
    "    t3 = 0\n",
    "    t4 = 0\n",
    "   \n",
    "    for j in range(50): #On réitère plusieurs fois afin d'obtenir un temps moyen \n",
    "        m1 = matl_cycle(i).adj_list\n",
    "        m2 = matl_complet(i).adj_list\n",
    "        m3 = matl_bicomplet(i).adj_list\n",
    "        m4 = matl_alea(i,0.8).adj_list\n",
    "        \n",
    "        debut = time.time()\n",
    "        kargerlist(m1)\n",
    "        end = time.time()\n",
    "        t1 += end - debut\n",
    "        \n",
    "        debut = time.time()\n",
    "        kargerlist(m2)\n",
    "        end = time.time()\n",
    "        t2 += end - debut\n",
    "        \n",
    "        start = time.time()\n",
    "        kargerlist(m3)\n",
    "        end = time.time()\n",
    "        t3 += end - start\n",
    "        \n",
    "        debut = time.time()\n",
    "        kargerlist(m4)\n",
    "        end = time.time()\n",
    "        t4 += end - debut\n",
    "    \n",
    "    temps1.append(np.mean(t1))\n",
    "    temps2.append(np.mean(t2))\n",
    "    temps3.append(np.mean(t3))\n",
    "    temps4.append(np.mean(t4))\n",
    "    \n",
    "plt.plot(tailles,temps1, label='Cycles')\n",
    "plt.plot(tailles,temps2, label='Complet')\n",
    "plt.plot(tailles,temps3, label='Biparti complet')\n",
    "plt.plot(tailles,temps4, label='Graphes aléatoires')\n",
    "\n",
    "\n",
    "\n",
    "plt.legend()\n",
    "plt.savefig('Question 1.H.png', dpi=300, bbox_inches='tight')\n",
    "plt.show()"
   ]
  },
  {
   "cell_type": "code",
   "execution_count": 76,
   "id": "f1825d0f",
   "metadata": {},
   "outputs": [],
   "source": []
  },
  {
   "cell_type": "code",
   "execution_count": null,
   "id": "e454df83",
   "metadata": {},
   "outputs": [],
   "source": []
  }
 ],
 "metadata": {
  "kernelspec": {
   "display_name": "Python 3 (ipykernel)",
   "language": "python",
   "name": "python3"
  },
  "language_info": {
   "codemirror_mode": {
    "name": "ipython",
    "version": 3
   },
   "file_extension": ".py",
   "mimetype": "text/x-python",
   "name": "python",
   "nbconvert_exporter": "python",
   "pygments_lexer": "ipython3",
   "version": "3.9.7"
  }
 },
 "nbformat": 4,
 "nbformat_minor": 5
}
